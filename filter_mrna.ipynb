{
 "cells": [
  {
   "cell_type": "code",
   "execution_count": 49,
   "metadata": {},
   "outputs": [],
   "source": [
    "import pandas as pd\n",
    "import os"
   ]
  },
  {
   "cell_type": "code",
   "execution_count": 50,
   "metadata": {},
   "outputs": [],
   "source": [
    "samples_path = 'common_sample_ids.csv'\n",
    "samples_df = pd.read_csv(samples_path)"
   ]
  },
  {
   "cell_type": "code",
   "execution_count": 51,
   "metadata": {},
   "outputs": [],
   "source": [
    "mrna_meta_path = 'demo2/sagemaker_data/files_meta_mRNA.csv'\n",
    "mrna_meta_df = pd.read_csv(mrna_meta_path)"
   ]
  },
  {
   "cell_type": "code",
   "execution_count": 52,
   "metadata": {},
   "outputs": [],
   "source": [
    "sample_list=samples_df['sample_id'].tolist()"
   ]
  },
  {
   "cell_type": "code",
   "execution_count": 53,
   "metadata": {},
   "outputs": [],
   "source": [
    "filtered_meta_df=mrna_meta_df[mrna_meta_df['cases.0.samples.0.sample_id'].isin(sample_list)]"
   ]
  },
  {
   "cell_type": "code",
   "execution_count": 54,
   "metadata": {},
   "outputs": [],
   "source": [
    "filtered_meta_df=filtered_meta_df[filtered_meta_df['file_name'].str.endswith('.FPKM.txt.gz')]"
   ]
  },
  {
   "cell_type": "code",
   "execution_count": 55,
   "metadata": {},
   "outputs": [],
   "source": [
    "# get sample_id & file_id & other meta data correspondance\n",
    "filtered_meta_df=filtered_meta_df[['file_id','cases.0.samples.0.sample_id', 'cases.0.samples.0.sample_type',\n",
    "       'cases.0.project.disease_type', 'cases.0.diagnoses.0.primary_diagnosis','cases.0.case_id']]"
   ]
  },
  {
   "cell_type": "code",
   "execution_count": 56,
   "metadata": {},
   "outputs": [],
   "source": [
    "output_fname = \"mrna_filtered_matrix.csv\"\n",
    "dirname = \"mRNA/gdc-mrna\"\n",
    "count = 0 \n",
    "for idname in os.listdir(dirname):\n",
    "    # list all the ids \n",
    "    if idname.find(\"mrna_matrix_\") != -1:\n",
    "        count +=1\n",
    "        print (\"processing \"+idname+\"...\")\n",
    "        mrna_df=pd.read_csv(dirname+'/'+idname)\n",
    "        mrna_sample_filtered_enriched=pd.merge(mrna_df, filtered_meta_df, on = 'file_id', how = 'inner')\n",
    "        if count == 0:\n",
    "            mrna_sample_filtered_enriched.to_csv(output_fname, mode='a', header=True)\n",
    "        else:\n",
    "            mrna_sample_filtered_enriched.to_csv(output_fname, mode='a', header=False)\n",
    "        "
   ]
  },
  {
   "cell_type": "code",
   "execution_count": 57,
   "metadata": {},
   "outputs": [],
   "source": [
    "testpath = 'mrna_filtered_matrix.csv'\n",
    "mrna_df = pd.read_csv(testpath)"
   ]
  },
  {
   "cell_type": "code",
   "execution_count": 59,
   "metadata": {},
   "outputs": [
    {
     "data": {
      "text/plain": [
       "1743"
      ]
     },
     "execution_count": 59,
     "metadata": {},
     "output_type": "execute_result"
    }
   ],
   "source": [
    "len(mrna_df)"
   ]
  },
  {
   "cell_type": "code",
   "execution_count": null,
   "metadata": {},
   "outputs": [],
   "source": []
  }
 ],
 "metadata": {
  "kernelspec": {
   "display_name": "Python 3",
   "language": "python",
   "name": "python3"
  },
  "language_info": {
   "codemirror_mode": {
    "name": "ipython",
    "version": 3
   },
   "file_extension": ".py",
   "mimetype": "text/x-python",
   "name": "python",
   "nbconvert_exporter": "python",
   "pygments_lexer": "ipython3",
   "version": "3.6.6"
  }
 },
 "nbformat": 4,
 "nbformat_minor": 2
}
