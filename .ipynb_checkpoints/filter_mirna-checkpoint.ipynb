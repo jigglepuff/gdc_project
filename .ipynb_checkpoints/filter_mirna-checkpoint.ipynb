{
 "cells": [
  {
   "cell_type": "code",
   "execution_count": null,
   "metadata": {},
   "outputs": [],
   "source": [
    "## get list of sample ids that has all the data"
   ]
  },
  {
   "cell_type": "code",
   "execution_count": 76,
   "metadata": {},
   "outputs": [
    {
     "name": "stdout",
     "output_type": "stream",
     "text": [
      "Once deleted, variables cannot be recovered. Proceed (y/[n])? y\n"
     ]
    }
   ],
   "source": [
    "%reset"
   ]
  },
  {
   "cell_type": "code",
   "execution_count": 78,
   "metadata": {},
   "outputs": [],
   "source": [
    "import pandas as pd"
   ]
  },
  {
   "cell_type": "code",
   "execution_count": 79,
   "metadata": {},
   "outputs": [],
   "source": [
    "cpv_path = 'demo2/sagemaker_data/files_meta_cpv.csv'\n",
    "cpv_meta_df = pd.read_csv(cpv_path)\n",
    "mrna_path = 'demo2/sagemaker_data/files_meta_mRNA.csv'\n",
    "mrna_meta_df = pd.read_csv(mrna_path)\n",
    "mirna_path = 'demo2/sagemaker_data/files_meta_miRNA.csv'\n",
    "mirna_met_df = pd.read_csv(mirna_path)\n"
   ]
  },
  {
   "cell_type": "code",
   "execution_count": 80,
   "metadata": {},
   "outputs": [],
   "source": [
    "cpv_samples = cpv_meta_df['cases.0.samples.0.sample_id']\n",
    "mrna_samples = mrna_meta_df['cases.0.samples.0.sample_id']\n",
    "mirna_samples = mirna_met_df['cases.0.samples.0.sample_id']\n",
    "all_samples = [cpv_samples,mrna_samples,mirna_samples]"
   ]
  },
  {
   "cell_type": "code",
   "execution_count": 81,
   "metadata": {},
   "outputs": [],
   "source": [
    "common = set.intersection(*map(set,all_samples))"
   ]
  },
  {
   "cell_type": "code",
   "execution_count": 82,
   "metadata": {},
   "outputs": [],
   "source": [
    "common_list = list(common)"
   ]
  },
  {
   "cell_type": "code",
   "execution_count": 83,
   "metadata": {},
   "outputs": [
    {
     "data": {
      "text/plain": [
       "10354"
      ]
     },
     "execution_count": 83,
     "metadata": {},
     "output_type": "execute_result"
    }
   ],
   "source": [
    "len(common_list)"
   ]
  },
  {
   "cell_type": "code",
   "execution_count": 84,
   "metadata": {},
   "outputs": [],
   "source": [
    "filtered_df=[]\n",
    "for df in [cpv_meta_df, mrna_meta_df, mirna_met_df]:\n",
    "    filtered_df.append(df[df['cases.0.samples.0.sample_id'].isin(common_list)])"
   ]
  },
  {
   "cell_type": "code",
   "execution_count": 85,
   "metadata": {},
   "outputs": [
    {
     "name": "stdout",
     "output_type": "stream",
     "text": [
      "10524\n",
      "10389.0\n",
      "10410\n"
     ]
    }
   ],
   "source": [
    "print(len(filtered_df[0]))\n",
    "print(len(filtered_df[1])/3)\n",
    "print(len(filtered_df[2]))"
   ]
  },
  {
   "cell_type": "code",
   "execution_count": 86,
   "metadata": {},
   "outputs": [
    {
     "data": {
      "text/plain": [
       "11486"
      ]
     },
     "execution_count": 86,
     "metadata": {},
     "output_type": "execute_result"
    }
   ],
   "source": [
    "len(mirna_met_df)"
   ]
  },
  {
   "cell_type": "code",
   "execution_count": 92,
   "metadata": {},
   "outputs": [],
   "source": [
    "# get sample_id & file_id & other meta data correspondance\n",
    "mirna_sample_fileid=filtered_df[2][['file_id','cases.0.samples.0.sample_id', 'cases.0.samples.0.sample_type',\n",
    "       'cases.0.project.disease_type', 'cases.0.diagnoses.0.primary_diagnosis','cases.0.case_id']]"
   ]
  },
  {
   "cell_type": "code",
   "execution_count": 88,
   "metadata": {},
   "outputs": [],
   "source": [
    "mirna_path = 'miRNA_full.csv'\n",
    "mirna_df = pd.read_csv(mirna_path)"
   ]
  },
  {
   "cell_type": "code",
   "execution_count": 93,
   "metadata": {},
   "outputs": [],
   "source": [
    "# enrich miRNA_df with sample_id (also filters according to sample_ids because of inner join)\n",
    "mirna_sample_enriched=pd.merge(mirna_df, mirna_sample_fileid, on = 'file_id', how = 'inner')"
   ]
  },
  {
   "cell_type": "code",
   "execution_count": 94,
   "metadata": {},
   "outputs": [
    {
     "data": {
      "text/plain": [
       "10410"
      ]
     },
     "execution_count": 94,
     "metadata": {},
     "output_type": "execute_result"
    }
   ],
   "source": [
    "len(mirna_sample_enriched)"
   ]
  },
  {
   "cell_type": "code",
   "execution_count": 95,
   "metadata": {},
   "outputs": [
    {
     "data": {
      "text/plain": [
       "Index(['file_id', 'hsa-let-7a-1', 'hsa-let-7a-2', 'hsa-let-7a-3', 'hsa-let-7b',\n",
       "       'hsa-let-7c', 'hsa-let-7d', 'hsa-let-7e', 'hsa-let-7f-1',\n",
       "       'hsa-let-7f-2',\n",
       "       ...\n",
       "       'hsa-mir-96', 'hsa-mir-98', 'hsa-mir-99a', 'hsa-mir-99b',\n",
       "       'disease_type', 'cases.0.samples.0.sample_id',\n",
       "       'cases.0.samples.0.sample_type', 'cases.0.project.disease_type',\n",
       "       'cases.0.diagnoses.0.primary_diagnosis', 'cases.0.case_id'],\n",
       "      dtype='object', length=1888)"
      ]
     },
     "execution_count": 95,
     "metadata": {},
     "output_type": "execute_result"
    }
   ],
   "source": [
    "mirna_sample_enriched.columns"
   ]
  },
  {
   "cell_type": "code",
   "execution_count": 96,
   "metadata": {},
   "outputs": [],
   "source": [
    "# avg duplicates\n",
    "mirna_df_avg=mirna_sample_enriched.groupby('cases.0.samples.0.sample_id').mean().reset_index()"
   ]
  },
  {
   "cell_type": "code",
   "execution_count": 97,
   "metadata": {},
   "outputs": [],
   "source": [
    "label_df=mirna_sample_enriched[['cases.0.samples.0.sample_id',\n",
    "       'cases.0.samples.0.sample_type', 'cases.0.project.disease_type',\n",
    "       'cases.0.diagnoses.0.primary_diagnosis', 'cases.0.case_id']]\n",
    "label_df=label_df.drop_duplicates(keep='first')"
   ]
  },
  {
   "cell_type": "code",
   "execution_count": 98,
   "metadata": {},
   "outputs": [
    {
     "name": "stdout",
     "output_type": "stream",
     "text": [
      "10354\n",
      "10354\n"
     ]
    }
   ],
   "source": [
    "print(len(mirna_df_avg))\n",
    "print(len(label_df))"
   ]
  },
  {
   "cell_type": "code",
   "execution_count": 100,
   "metadata": {},
   "outputs": [],
   "source": [
    "mirna_final=pd.merge(mirna_df_avg, label_df, on='cases.0.samples.0.sample_id', how='inner')"
   ]
  },
  {
   "cell_type": "code",
   "execution_count": 102,
   "metadata": {},
   "outputs": [
    {
     "data": {
      "text/plain": [
       "Index(['cases.0.samples.0.sample_id', 'hsa-let-7a-1', 'hsa-let-7a-2',\n",
       "       'hsa-let-7a-3', 'hsa-let-7b', 'hsa-let-7c', 'hsa-let-7d', 'hsa-let-7e',\n",
       "       'hsa-let-7f-1', 'hsa-let-7f-2',\n",
       "       ...\n",
       "       'hsa-mir-9500', 'hsa-mir-96', 'hsa-mir-98', 'hsa-mir-99a',\n",
       "       'hsa-mir-99b', 'disease_type', 'cases.0.samples.0.sample_type',\n",
       "       'cases.0.project.disease_type', 'cases.0.diagnoses.0.primary_diagnosis',\n",
       "       'cases.0.case_id'],\n",
       "      dtype='object', length=1887)"
      ]
     },
     "execution_count": 102,
     "metadata": {},
     "output_type": "execute_result"
    }
   ],
   "source": [
    "mirna_final.columns"
   ]
  },
  {
   "cell_type": "code",
   "execution_count": 109,
   "metadata": {},
   "outputs": [],
   "source": [
    "mirna_final=mirna_final.drop(columns=['disease_type'])"
   ]
  },
  {
   "cell_type": "code",
   "execution_count": 111,
   "metadata": {},
   "outputs": [],
   "source": [
    "mirna_final = mirna_final.rename(columns={'cases.0.samples.0.sample_id': 'sample_id', \n",
    "                                          'cases.0.samples.0.sample_type': 'sample_type',\n",
    "                                         'cases.0.project.disease_type':'disease_type',\n",
    "                                         'cases.0.diagnoses.0.primary_diagnosis':'primary_diagnosis',\n",
    "                                         'cases.0.case_id':'case_id'})"
   ]
  },
  {
   "cell_type": "code",
   "execution_count": 112,
   "metadata": {},
   "outputs": [],
   "source": [
    "mirna_final.to_csv('filtered_mirna_final_matrix.csv',index=False)"
   ]
  },
  {
   "cell_type": "code",
   "execution_count": 116,
   "metadata": {},
   "outputs": [
    {
     "name": "stdout",
     "output_type": "stream",
     "text": [
      "11486\n",
      "11486\n"
     ]
    }
   ],
   "source": [
    "# generate miRNA full matrix (just in case)\n",
    "print(len(mirna_met_df))\n",
    "print(len(mirna_df))\n",
    "# get sample_id & file_id & other meta data correspondance\n",
    "mirna_full_sample_fileid=mirna_met_df[['file_id','cases.0.samples.0.sample_id', 'cases.0.samples.0.sample_type',\n",
    "       'cases.0.project.disease_type', 'cases.0.diagnoses.0.primary_diagnosis','cases.0.case_id']]\n",
    "# enrich miRNA_df with sample_id (also filters according to sample_ids because of inner join)\n",
    "mirna_sample_enriched=pd.merge(mirna_df, mirna_full_sample_fileid, on = 'file_id', how = 'inner')"
   ]
  },
  {
   "cell_type": "code",
   "execution_count": 117,
   "metadata": {},
   "outputs": [
    {
     "name": "stdout",
     "output_type": "stream",
     "text": [
      "11486\n"
     ]
    }
   ],
   "source": [
    "print(len(mirna_sample_enriched))"
   ]
  },
  {
   "cell_type": "code",
   "execution_count": 118,
   "metadata": {},
   "outputs": [],
   "source": [
    "mirna_full_final=mirna_sample_enriched.drop(columns=['disease_type'])\n",
    "mirna_full_final = mirna_sample_enriched.rename(columns={'cases.0.samples.0.sample_id': 'sample_id', \n",
    "                                          'cases.0.samples.0.sample_type': 'sample_type',\n",
    "                                         'cases.0.project.disease_type':'disease_type',\n",
    "                                         'cases.0.diagnoses.0.primary_diagnosis':'primary_diagnosis',\n",
    "                                         'cases.0.case_id':'case_id'})"
   ]
  },
  {
   "cell_type": "code",
   "execution_count": 119,
   "metadata": {},
   "outputs": [],
   "source": [
    "mirna_full_final.to_csv('full_mirna_final_matrix2.csv',index=False)"
   ]
  }
 ],
 "metadata": {
  "kernelspec": {
   "display_name": "Python 3",
   "language": "python",
   "name": "python3"
  },
  "language_info": {
   "codemirror_mode": {
    "name": "ipython",
    "version": 3
   },
   "file_extension": ".py",
   "mimetype": "text/x-python",
   "name": "python",
   "nbconvert_exporter": "python",
   "pygments_lexer": "ipython3",
   "version": "3.6.6"
  }
 },
 "nbformat": 4,
 "nbformat_minor": 2
}
